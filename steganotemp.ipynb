{
 "cells": [
  {
   "cell_type": "code",
   "execution_count": 11,
   "id": "50d870f2",
   "metadata": {},
   "outputs": [
    {
     "name": "stdout",
     "output_type": "stream",
     "text": [
      "this needs to be decoded\n"
     ]
    }
   ],
   "source": [
    "from PIL import Image\n",
    "def genData(data):\n",
    "\n",
    "        newd = []\n",
    " \n",
    "        for i in data:\n",
    "            newd.append(format(ord(i), '08b'))\n",
    "        return newd\n",
    "def modPix(pix, data):\n",
    " \n",
    "    datalist = genData(data)\n",
    "    lendata = len(datalist)\n",
    "    imdata = iter(pix)\n",
    " \n",
    "    for i in range(lendata):\n",
    "        pix = [value for value in imdata.__next__()[:3] +\n",
    "                                imdata.__next__()[:3] +\n",
    "                                imdata.__next__()[:3]]\n",
    "        for j in range(0, 8):\n",
    "            if (datalist[i][j] == '0' and pix[j]% 2 != 0):\n",
    "                pix[j] -= 1\n",
    " \n",
    "            elif (datalist[i][j] == '1' and pix[j] % 2 == 0):\n",
    "                if(pix[j] != 0):\n",
    "                    pix[j] -= 1\n",
    "                else:\n",
    "                    pix[j] += 1\n",
    "        if (i == lendata - 1):\n",
    "            if (pix[-1] % 2 == 0):\n",
    "                if(pix[-1] != 0):\n",
    "                    pix[-1] -= 1\n",
    "                else:\n",
    "                    pix[-1] += 1\n",
    " \n",
    "        else:\n",
    "            if (pix[-1] % 2 != 0):\n",
    "                pix[-1] -= 1\n",
    " \n",
    "        pix = tuple(pix)\n",
    "        yield pix[0:3]\n",
    "        yield pix[3:6]\n",
    "        yield pix[6:9]\n",
    "def encode(img, data):\n",
    "    newimg=img.copy()\n",
    "    w = newimg.size[0]\n",
    "    (x, y) = (0, 0)\n",
    " \n",
    "    for pixel in modPix(newimg.getdata(), data):\n",
    "        newimg.putpixel((x, y), pixel)\n",
    "        if (x == w - 1):\n",
    "            x = 0\n",
    "            y += 1\n",
    "        else:\n",
    "            x += 1\n",
    "    return newimg        \n",
    "def decode(img):\n",
    "    data = ''\n",
    "    imgdata = iter(img.getdata())\n",
    " \n",
    "    while (True):\n",
    "        pixels = [value for value in imgdata.__next__()[:3] +\n",
    "                                imgdata.__next__()[:3] +\n",
    "                                imgdata.__next__()[:3]]\n",
    "        binstr = ''\n",
    " \n",
    "        for i in pixels[:8]:\n",
    "            if (i % 2 == 0):\n",
    "                binstr += '0'\n",
    "            else:\n",
    "                binstr += '1'\n",
    " \n",
    "        data += chr(int(binstr, 2))\n",
    "        if (pixels[-1] % 2 != 0):\n",
    "            return data\n",
    "img='stego img.jpg';        \n",
    "img = Image.open(img, 'r')\n",
    "text=\"this needs to be decoded\"\n",
    "newimage=encode(img,text)\n",
    "newimage.save(\"Encoded_image.jpg\")\n",
    "textd=decode(newimage)\n",
    "print(textd)"
   ]
  },
  {
   "cell_type": "code",
   "execution_count": null,
   "id": "04d3490b",
   "metadata": {},
   "outputs": [],
   "source": []
  },
  {
   "cell_type": "code",
   "execution_count": 10,
   "id": "85bc255d",
   "metadata": {},
   "outputs": [
    {
     "name": "stdout",
     "output_type": "stream",
     "text": [
      "this needs to be decoded\n"
     ]
    }
   ],
   "source": []
  },
  {
   "cell_type": "code",
   "execution_count": null,
   "id": "b89f3b43",
   "metadata": {},
   "outputs": [],
   "source": []
  }
 ],
 "metadata": {
  "kernelspec": {
   "display_name": "Python 3 (ipykernel)",
   "language": "python",
   "name": "python3"
  },
  "language_info": {
   "codemirror_mode": {
    "name": "ipython",
    "version": 3
   },
   "file_extension": ".py",
   "mimetype": "text/x-python",
   "name": "python",
   "nbconvert_exporter": "python",
   "pygments_lexer": "ipython3",
   "version": "3.10.6"
  }
 },
 "nbformat": 4,
 "nbformat_minor": 5
}
